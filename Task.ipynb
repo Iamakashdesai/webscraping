{
 "cells": [
  {
   "cell_type": "code",
   "execution_count": 1,
   "id": "9fd28469",
   "metadata": {},
   "outputs": [],
   "source": [
    "import requests \n",
    "from bs4 import BeautifulSoup\n",
    "import csv\n",
    "import pandas as pd"
   ]
  },
  {
   "cell_type": "code",
   "execution_count": 31,
   "id": "6316ec16",
   "metadata": {},
   "outputs": [
    {
     "name": "stdout",
     "output_type": "stream",
     "text": [
      "enter the num of pages data you want3\n"
     ]
    }
   ],
   "source": [
    "phn_nm=[]\n",
    "phn_pr=[]\n",
    "phn_dis=[]\n",
    "phn_rating=[]\n",
    "\n",
    "\n",
    "page_num=input('enter the num of pages data you want')\n",
    "for i in range(1,int(page_num)+1):\n",
    "    url=\"https://www.flipkart.com/search?q=mobile+&otracker=search&otracker1=search&marketplace=FLIPKART&as-show=on&as=off&page=\"+str(i)\n",
    "    req=requests.get(url)\n",
    "    content=BeautifulSoup(req.content,'html.parser')\n",
    "    name=content.find_all('div',{'class':'_4rR01T'})\n",
    "    price=content.find_all('div',{'class':'_30jeq3 _1_WHN1'})\n",
    "    discount=content.find_all('div',{'class':'_3Ay6Sb'})\n",
    "    rating=content.find_all('div',{'class':'_3LWZlK'})\n",
    "\n",
    "    for i in name:\n",
    "        phn_nm.append(i.text)\n",
    "    for i in price:\n",
    "        phn_pr.append(i.text)\n",
    "    for i in discount:\n",
    "        phn_dis.append(i.text)\n",
    "    for i in rating:\n",
    "        phn_rating.append(i.text)\n"
   ]
  },
  {
   "cell_type": "code",
   "execution_count": 32,
   "id": "39baaa4d",
   "metadata": {
    "scrolled": true
   },
   "outputs": [
    {
     "data": {
      "text/html": [
       "<div>\n",
       "<style scoped>\n",
       "    .dataframe tbody tr th:only-of-type {\n",
       "        vertical-align: middle;\n",
       "    }\n",
       "\n",
       "    .dataframe tbody tr th {\n",
       "        vertical-align: top;\n",
       "    }\n",
       "\n",
       "    .dataframe thead th {\n",
       "        text-align: right;\n",
       "    }\n",
       "</style>\n",
       "<table border=\"1\" class=\"dataframe\">\n",
       "  <thead>\n",
       "    <tr style=\"text-align: right;\">\n",
       "      <th></th>\n",
       "      <th>Mobile name</th>\n",
       "      <th>Mobile Price</th>\n",
       "    </tr>\n",
       "  </thead>\n",
       "  <tbody>\n",
       "    <tr>\n",
       "      <th>0</th>\n",
       "      <td>realme C25Y (Glacier Blue, 64 GB)</td>\n",
       "      <td>₹10,999</td>\n",
       "    </tr>\n",
       "    <tr>\n",
       "      <th>1</th>\n",
       "      <td>realme C25Y (Metal Grey, 64 GB)</td>\n",
       "      <td>₹10,999</td>\n",
       "    </tr>\n",
       "    <tr>\n",
       "      <th>2</th>\n",
       "      <td>realme Narzo 50A (Oxygen Blue, 128 GB)</td>\n",
       "      <td>₹12,499</td>\n",
       "    </tr>\n",
       "    <tr>\n",
       "      <th>3</th>\n",
       "      <td>realme Narzo 50A (Oxygen Green, 64 GB)</td>\n",
       "      <td>₹11,499</td>\n",
       "    </tr>\n",
       "    <tr>\n",
       "      <th>4</th>\n",
       "      <td>realme Narzo 50A (Oxygen Green, 128 GB)</td>\n",
       "      <td>₹12,499</td>\n",
       "    </tr>\n",
       "    <tr>\n",
       "      <th>...</th>\n",
       "      <td>...</td>\n",
       "      <td>...</td>\n",
       "    </tr>\n",
       "    <tr>\n",
       "      <th>67</th>\n",
       "      <td>Infinix Hot 10S (7° Purple, 64 GB)</td>\n",
       "      <td>₹10,999</td>\n",
       "    </tr>\n",
       "    <tr>\n",
       "      <th>68</th>\n",
       "      <td>MOTOROLA e40 (Pink Clay, 64 GB)</td>\n",
       "      <td>₹9,999</td>\n",
       "    </tr>\n",
       "    <tr>\n",
       "      <th>69</th>\n",
       "      <td>realme C11 2021 (Cool Grey, 32 GB)</td>\n",
       "      <td>₹7,499</td>\n",
       "    </tr>\n",
       "    <tr>\n",
       "      <th>70</th>\n",
       "      <td>realme C11 2021 (Cool Blue, 32 GB)</td>\n",
       "      <td>₹7,499</td>\n",
       "    </tr>\n",
       "    <tr>\n",
       "      <th>71</th>\n",
       "      <td>MOTOROLA E7 Power (Tahiti Blue, 64 GB)</td>\n",
       "      <td>₹8,999</td>\n",
       "    </tr>\n",
       "  </tbody>\n",
       "</table>\n",
       "<p>72 rows × 2 columns</p>\n",
       "</div>"
      ],
      "text/plain": [
       "                                Mobile name Mobile Price\n",
       "0         realme C25Y (Glacier Blue, 64 GB)      ₹10,999\n",
       "1           realme C25Y (Metal Grey, 64 GB)      ₹10,999\n",
       "2    realme Narzo 50A (Oxygen Blue, 128 GB)      ₹12,499\n",
       "3    realme Narzo 50A (Oxygen Green, 64 GB)      ₹11,499\n",
       "4   realme Narzo 50A (Oxygen Green, 128 GB)      ₹12,499\n",
       "..                                      ...          ...\n",
       "67       Infinix Hot 10S (7° Purple, 64 GB)      ₹10,999\n",
       "68          MOTOROLA e40 (Pink Clay, 64 GB)       ₹9,999\n",
       "69       realme C11 2021 (Cool Grey, 32 GB)       ₹7,499\n",
       "70       realme C11 2021 (Cool Blue, 32 GB)       ₹7,499\n",
       "71   MOTOROLA E7 Power (Tahiti Blue, 64 GB)       ₹8,999\n",
       "\n",
       "[72 rows x 2 columns]"
      ]
     },
     "execution_count": 32,
     "metadata": {},
     "output_type": "execute_result"
    }
   ],
   "source": [
    "data={'Mobile name':phn_nm,'Mobile Price':phn_pr}\n",
    "df=pd.DataFrame(data)\n",
    "df"
   ]
  },
  {
   "cell_type": "code",
   "execution_count": 20,
   "id": "a470300d",
   "metadata": {
    "collapsed": true
   },
   "outputs": [
    {
     "ename": "TypeError",
     "evalue": "insert() missing 1 required positional argument: 'value'",
     "output_type": "error",
     "traceback": [
      "\u001b[1;31m---------------------------------------------------------------------------\u001b[0m",
      "\u001b[1;31mTypeError\u001b[0m                                 Traceback (most recent call last)",
      "\u001b[1;32m<ipython-input-20-ef7ad325fcf5>\u001b[0m in \u001b[0;36m<module>\u001b[1;34m\u001b[0m\n\u001b[1;32m----> 1\u001b[1;33m \u001b[0mdf\u001b[0m\u001b[1;33m.\u001b[0m\u001b[0minsert\u001b[0m\u001b[1;33m(\u001b[0m \u001b[1;36m1\u001b[0m\u001b[1;33m,\u001b[0m\u001b[0mphn_dis\u001b[0m\u001b[1;33m)\u001b[0m\u001b[1;33m\u001b[0m\u001b[1;33m\u001b[0m\u001b[0m\n\u001b[0m",
      "\u001b[1;31mTypeError\u001b[0m: insert() missing 1 required positional argument: 'value'"
     ]
    }
   ],
   "source": []
  },
  {
   "cell_type": "code",
   "execution_count": null,
   "id": "0992c814",
   "metadata": {},
   "outputs": [],
   "source": []
  }
 ],
 "metadata": {
  "kernelspec": {
   "display_name": "Python 3",
   "language": "python",
   "name": "python3"
  },
  "language_info": {
   "codemirror_mode": {
    "name": "ipython",
    "version": 3
   },
   "file_extension": ".py",
   "mimetype": "text/x-python",
   "name": "python",
   "nbconvert_exporter": "python",
   "pygments_lexer": "ipython3",
   "version": "3.8.8"
  }
 },
 "nbformat": 4,
 "nbformat_minor": 5
}
